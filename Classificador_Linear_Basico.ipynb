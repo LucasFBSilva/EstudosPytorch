{
  "nbformat": 4,
  "nbformat_minor": 0,
  "metadata": {
    "colab": {
      "name": "Classificador_Linear_Basico.ipynb",
      "provenance": [],
      "collapsed_sections": [],
      "authorship_tag": "ABX9TyOa5iFoP6AaoA9GOTTAMb1o",
      "include_colab_link": true
    },
    "kernelspec": {
      "name": "python3",
      "display_name": "Python 3"
    },
    "language_info": {
      "name": "python"
    }
  },
  "cells": [
    {
      "cell_type": "markdown",
      "metadata": {
        "id": "view-in-github",
        "colab_type": "text"
      },
      "source": [
        "<a href=\"https://colab.research.google.com/github/LucasFBSilva/EstudosPytorch/blob/main/Classificador_Linear_Basico.ipynb\" target=\"_parent\"><img src=\"https://colab.research.google.com/assets/colab-badge.svg\" alt=\"Open In Colab\"/></a>"
      ]
    },
    {
      "cell_type": "code",
      "metadata": {
        "id": "XZO7cDX0WjPh"
      },
      "source": [
        "from sklearn.datasets import make_classification\n",
        "import matplotlib.pyplot as plt\n",
        "import numpy as np\n",
        "np.random.seed(50)\n",
        "w1 = 5\n",
        "w2 = 1\n",
        "b = 0\n",
        "X, Y = make_classification(n_features=2, n_redundant=0, n_informative=1, n_clusters_per_class=1)"
      ],
      "execution_count": 23,
      "outputs": []
    },
    {
      "cell_type": "code",
      "metadata": {
        "id": "NECqksbjvhAq"
      },
      "source": [
        "def plotmodel(w1,w2,b):\n",
        "  plt.scatter(X[:,0],X[:,1], marker='o', c=Y, edgecolors='k')\n",
        "  x = np.linspace(-2,4,50)\n",
        "  y = (-w1*x-b)/w2\n",
        "\n",
        "  xmin,xmax = plt.gca().get_xlim()\n",
        "  ymin,ymax = plt.gca().get_ylim()\n",
        "\n",
        "  plt.axvline(0,-1,1, color='k',linewidth=1)\n",
        "  plt.axhline(0,-1,1, color='k',linewidth=1)\n",
        "  plt.plot(x,y)\n",
        "  plt.grid(True)\n",
        "\n",
        "  plt.xlim(xmin,xmax)\n",
        "  plt.ylim(ymin,ymax)\n",
        "\n",
        "plotmodel(w1,w2,b)\n"
      ],
      "execution_count": null,
      "outputs": []
    },
    {
      "cell_type": "code",
      "metadata": {
        "id": "9wbtXMqwzPbx"
      },
      "source": [
        "def classificador(ponto,w1,w2,b):\n",
        "  reta = ponto[0]*w1+ponto[1]*w2+b\n",
        "\n",
        "  if reta>=0:\n",
        "    return 1, 'yellow'\n",
        "  elif reta < 0:\n",
        "    return 0, 'blue'"
      ],
      "execution_count": 25,
      "outputs": []
    },
    {
      "cell_type": "code",
      "metadata": {
        "colab": {
          "base_uri": "https://localhost:8080/"
        },
        "id": "M4MvwXQXWoOL",
        "outputId": "0d10e5bc-c936-4fba-9435-107e78c48852"
      },
      "source": [
        "validade_modelo = 0\n",
        "for i in range(len(X)):  \n",
        "  tipo,cor = classificador(X[i],w1,w2,b)\n",
        "  if tipo == Y[i]:\n",
        "    validade_modelo += 1\n",
        "  else:\n",
        "    validade_modelo = validade_modelo\n",
        "\n",
        "print((validade_modelo/len(Y))*100,'%')\n",
        "\n"
      ],
      "execution_count": 26,
      "outputs": [
        {
          "output_type": "stream",
          "name": "stdout",
          "text": [
            "94.0 %\n"
          ]
        }
      ]
    }
  ]
}